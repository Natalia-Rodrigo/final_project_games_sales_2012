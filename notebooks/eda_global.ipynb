{
 "cells": [
  {
   "cell_type": "code",
   "execution_count": null,
   "metadata": {},
   "outputs": [],
   "source": [
    "import pandas as pd\n",
    "import numpy as np\n",
    "import seaborn as sns\n",
    "import matplotlib.pyplot as plt\n",
    "import functions as fc\n",
    "import importlib\n",
    "\n",
    "importlib.reload(fc)"
   ]
  },
  {
   "cell_type": "code",
   "execution_count": null,
   "metadata": {},
   "outputs": [],
   "source": [
    "cleaned_video_games = pd.read_csv('..\\data\\cleaned\\cleaned_video_games_df.csv')\n",
    "cleaned_video_games\n"
   ]
  },
  {
   "cell_type": "code",
   "execution_count": null,
   "metadata": {},
   "outputs": [],
   "source": [
    "categorical_variables = cleaned_video_games.drop(columns='game_title').select_dtypes(exclude=np.number)\n",
    "fc.countplot_categorical_variables(categorical_variables, 15, 10)"
   ]
  },
  {
   "cell_type": "markdown",
   "metadata": {},
   "source": [
    "## EDA platform sales"
   ]
  },
  {
   "cell_type": "code",
   "execution_count": null,
   "metadata": {},
   "outputs": [],
   "source": [
    "sales_df = cleaned_video_games[['platform', 'year', 'genre', 'publisher', 'global']]\n",
    "platform_sales = fc.df_grouping(sales_df, 'platform', 'global')\n",
    "platform_sales"
   ]
  },
  {
   "cell_type": "code",
   "execution_count": null,
   "metadata": {},
   "outputs": [],
   "source": [
    "platforms = platform_sales['platform'].unique().tolist()\n",
    "platforms"
   ]
  },
  {
   "cell_type": "code",
   "execution_count": null,
   "metadata": {},
   "outputs": [],
   "source": [
    "#for a better readability in the lineplot, I'll be separating platforms by companies. \n",
    "\n",
    "sony_platform_df = platform_sales.copy()\n",
    "sony_platform_df = sony_platform_df[sony_platform_df['platform'].isin(['PS2', 'PS', 'PS3', 'PSP', 'PSV'])]\n",
    "#sony_platform_df\n",
    "\n",
    "nintendo_platform_df = platform_sales.copy()\n",
    "nintendo_platform_df = nintendo_platform_df[nintendo_platform_df['platform'].isin(['NES', 'GB', 'SNES', 'N64', 'GBA', 'GC', 'DS', '3DS', 'Wii','WiiU'])]\n",
    "#nintendo_platform_df\n",
    "\n",
    "sega_platforms_df = platform_sales.copy()\n",
    "sega_platforms_df = sega_platforms_df[sega_platforms_df['platform'].isin(['GEN', 'SCD', 'SAT', 'DC'])]\n",
    "#sega_platforms_df\n",
    "\n",
    "microsoft_platforms_df = platform_sales.copy()\n",
    "microsoft_platforms_df = microsoft_platforms_df[microsoft_platforms_df['platform'].isin(['XB', 'X360'])]\n",
    "microsoft_platforms_df"
   ]
  },
  {
   "cell_type": "code",
   "execution_count": null,
   "metadata": {},
   "outputs": [],
   "source": [
    "platform_df_list= [sony_platform_df, nintendo_platform_df, sega_platforms_df, microsoft_platforms_df]\n",
    "platforms_names_list = ['Sony platform', 'Nintendo platform', 'Sega platform', 'Microsoft platform']\n",
    "\n",
    "fc.lineplot( platform_df_list, platforms_names_list, 'platform')"
   ]
  },
  {
   "cell_type": "code",
   "execution_count": null,
   "metadata": {},
   "outputs": [],
   "source": [
    "fc.barplot(platform_df_list, platforms_names_list, 'platform', 10)"
   ]
  },
  {
   "cell_type": "markdown",
   "metadata": {},
   "source": [
    "From both charts on top we can see:\n",
    "\n",
    "• Sony's peak sales was with PS2 from 2000-2005, decresing considerably between 2009-2010. Followed by the PS having it's peak around 1997 prior to the PS2 launch. PSP had a small peak around 2006, while PS3 considering the dataset comes up to 2012 has its peak between 2010-2011. PS2 was sold the most. \n",
    "\n",
    "• Ninento has a few different platforms which its greater peak was with the Wii around 2009-2010 without surpassing the sells in PS2 from Sony. Closely followed by the games unit sells in DS. Rest of Nintendo platform sales between 1975 - 2012 are lower than 70 millions sold, comparing to the +120 millions sold by the Wii and +150millions sold in PS2. Wii was sold the most by difference. \n",
    "\n",
    "• For Sega on the other hand, platform sells are all under 25millions sold, being their peak with GEN (Sega Genesis) in 1992. GEN was sold the most with not such a wide difference. \n",
    "\n",
    "• When it comes to Microsoft platforms until 2012, peak is found on the X360 with a slightly amount over the 120 million units sold. X360 was the most sold when it comes to Microsoft with great difference. "
   ]
  },
  {
   "cell_type": "code",
   "execution_count": null,
   "metadata": {},
   "outputs": [],
   "source": [
    "platform_sales['global'].describe().round(3)"
   ]
  },
  {
   "cell_type": "markdown",
   "metadata": {},
   "source": [
    "We can see that average global sales per platform is set in 32.07 million units sold, with a standard deviation of 36.87 million units sold. \n",
    "\n",
    "Along the platforms, we have a minimum amount of 0.93 million units sold which differs in a 99.40% with the maximum amount of million units sold, which is a very high difference. Half of the platforms has up to 17.91 million units sold and 75% of them between 17.91-41.82 million units sold which still differs in a 73.27% with the maximum amount of million units sold. "
   ]
  },
  {
   "cell_type": "markdown",
   "metadata": {},
   "source": [
    "## EDA Genre sales"
   ]
  },
  {
   "cell_type": "code",
   "execution_count": null,
   "metadata": {},
   "outputs": [],
   "source": [
    "genre_sales = fc.df_grouping(sales_df, 'genre', 'global')\n",
    "genre_sales"
   ]
  },
  {
   "cell_type": "code",
   "execution_count": null,
   "metadata": {},
   "outputs": [],
   "source": [
    "genre_list = genre_sales['genre'].unique().tolist()\n",
    "genre_list"
   ]
  },
  {
   "cell_type": "code",
   "execution_count": null,
   "metadata": {},
   "outputs": [],
   "source": [
    "for genre in genre_sales['genre'].unique():\n",
    "    plt.figure(figsize=(6, 6))\n",
    "    sns.lineplot(data = genre_sales[genre_sales['genre'] == genre], x = 'year', y = 'global', label=genre)\n",
    "    plt.title(f'Genre {genre} sales throughout time')\n",
    "    plt.show()"
   ]
  },
  {
   "cell_type": "markdown",
   "metadata": {},
   "source": [
    "• Misc: low sales between 1975-1995 where little peaks started appearing in 1996, 1999 and reach its maximum peak around 2007. Second higher peak around 2010 where it started falling. \n",
    "\n",
    "• Platforms: had peaks and drops since 1975-2010, higher peak sale around 1985 with a drop around 1986. After this we have drops and peaks from around 1988-2005 with a big sales drop below 10 million sales. Second higher peak around 2006 stabilized until 2012 with another big drop.\n",
    "\n",
    "• Sports: didn’t have big sales impact from 1975-2000 where it started raising until it’s greater peak in 2006. second higher peak on 2010 and then a big drop on 2012.\n",
    "\n",
    "• Action: low sales between 1975-1995 where it started to grow in sales on 1996 and keeps growing until 2012. Higher peak between 1975-2012 is found around 2008. \n",
    "\n",
    "• Puzzle: had a great impact in 1989 with it’s higher peak, however it lowered from +35 million sells to -10 millions sells from 1990-2012.\n",
    "\n",
    "• Racing: sales lower than 10 millions from 1975-1995. Here, we find a growth +20 million sells on 1996, having multiple peaks and drops. Higher peak around 2008 with +50 million sells. \n",
    "\n",
    "• Shooter: big amount of sale on 1884 with Duck Hunt with +30 million units sold. After this we have a big drop down until 1990 where it started slowly gaining sells until 2011 having in this year its greater peak with sells between 65-70 millions of units. \n",
    "\n",
    "• Fighting: started growing on 1985 with its first peak around 1992 with around 15 million units sold. Greater peak around 1998 with near to 25 million units sold, closely followed by its second higher peak around 2009 with a bit less than 25 million units sold. Through time we can see different drops and growth when it comes to sells. \n",
    "\n",
    "• Adventure: sells equal or lower to 20 million from 1986-1998. It starting growing back again between 2000-2002 having after it another drop down. Higher peak on 2008 around 35 million units sold. \n",
    "\n",
    "• Role-playing: under 10 million units sold from 1986-1996, when it started growing up around 40 million units sold. This amount is reached multiple times over time from 1996-2010 with multiple dropdowns.\n",
    "\n",
    "• Simulation: has a clear peak on 2005 with +40 million units sold, rest of peaks are under 30 millions. \n",
    "\n",
    "• Strategy: didn’t change much during time but has a clear peak around 1998-1999 surpassing the 20 million units.  \n",
    "\n",
    "\n",
    "Genre's: platform, fighting and racing has the bigger number of changes between 1984-2012.\n",
    "As per barplot below, we can see that top genre sells are in 'Sports', closely followed by genre 'Shooter'. "
   ]
  },
  {
   "cell_type": "code",
   "execution_count": null,
   "metadata": {},
   "outputs": [],
   "source": [
    "fc.barplot([genre_sales], ['Genre'], 'genre')"
   ]
  },
  {
   "cell_type": "code",
   "execution_count": null,
   "metadata": {},
   "outputs": [],
   "source": [
    "genre_sales['global'].describe().round(3)"
   ]
  },
  {
   "cell_type": "markdown",
   "metadata": {},
   "source": [
    "We can see that average global sales per genre is 17.14 million units sold, with a standard deviation of 17.32 million units sold. \n",
    "\n",
    "Along the different genres, we have a minimum amount of 0.84 million units sold which differs in a 99.22% with the maximum amount of million units sold, which is a very high difference. Half of the genres has up to 10.87 million units sold and 75% of them between 10.87-25.64 million units sold which still differs in a 76.23% with the maximum amount of million units sold. "
   ]
  },
  {
   "cell_type": "markdown",
   "metadata": {},
   "source": [
    "## EDA Publisher sales influence"
   ]
  },
  {
   "cell_type": "code",
   "execution_count": null,
   "metadata": {},
   "outputs": [],
   "source": [
    "publisher_sales = fc.df_grouping(sales_df, 'publisher', 'global')\n",
    "publisher_sales"
   ]
  },
  {
   "cell_type": "code",
   "execution_count": null,
   "metadata": {},
   "outputs": [],
   "source": [
    "publisher_sales['publisher'].unique()"
   ]
  },
  {
   "cell_type": "code",
   "execution_count": null,
   "metadata": {},
   "outputs": [],
   "source": [
    "# to ease analysis I'll split publishers in 2 categories: major publishers and indie publishers\n",
    "\n",
    "major_publisher_df = publisher_sales.copy()\n",
    "major_publisher_df = major_publisher_df[major_publisher_df['publisher'].isin(['Nintendo', 'Electronic Arts', 'Activision', 'Microsoft Game Studios', 'Sony Computer Entertainment', 'Ubisoft', 'Take-Two Interactive', 'Konami Digital Entertainment', 'Bethesda Softworks', 'THQ', 'Sega', 'Capcom', 'Square Enix', 'Namco Bandai Games', 'Warner Bros. Interactive Entertainment'])]\n",
    "\n",
    "\n",
    "indie_publisher_df = publisher_sales.copy()\n",
    "indie_publisher_df = indie_publisher_df[indie_publisher_df['publisher'].isin(['505 Games', 'Deep Silver', 'Level 5', 'D3Publisher', 'Global Star', 'Hudson Soft', 'Majesco Entertainment', 'Crave Entertainment', 'Valve Software', 'City Interactive', 'Sammy Corporation', 'Koch Media', 'Play It', 'GSP', 'Russel', 'Success', 'Tomy Corporation'])]"
   ]
  },
  {
   "cell_type": "code",
   "execution_count": null,
   "metadata": {},
   "outputs": [],
   "source": [
    "publisher_df_list = [major_publisher_df, indie_publisher_df]\n",
    "publisher_names = ['Major publisher', 'Indie publisher']\n",
    "\n",
    "fc.lineplot(publisher_df_list, publisher_names, 'publisher')"
   ]
  },
  {
   "cell_type": "markdown",
   "metadata": {},
   "source": [
    "• Indies publishers: \n",
    "    Throughout time we cannot see a high predominance between the indies publishers from 1984-2012. It slightly show a bit more sells 505 Games and Deep Silver publishers around 2006-2010.\n",
    "\n",
    "• Major publishers: \n",
    "    We can see a high predominance througout all time by Nintendo, growing some small competence around 1996-2012 by Electronic Arts and Sony Computer Entertainment. From 2006 onwards Activision gaines a bit more of importance reaching Electronic Arts. \n",
    "\n",
    "On the below barplot, we can see in more detail:\n",
    "\n",
    "• Indies publishers: we confirm a predominance by 505 Games, followed by around half of the sales by Deep Silver and Level 5 publisher. \n",
    "• Major publishers: we cam confirm a high predominance by Nintendo publisher with +60 million units sold, followed by Electronic Arts with less than 50 million units sold, a high difference between both predominant publishers. \n"
   ]
  },
  {
   "cell_type": "code",
   "execution_count": null,
   "metadata": {},
   "outputs": [],
   "source": [
    "fc.barplot(publisher_df_list, publisher_names, 'publisher')"
   ]
  },
  {
   "cell_type": "code",
   "execution_count": null,
   "metadata": {},
   "outputs": [],
   "source": [
    "publisher_sales['global'].describe().round(3)"
   ]
  },
  {
   "cell_type": "markdown",
   "metadata": {},
   "source": [
    "We can see that average global sales per publisher is set in 10.37 million units sold, with a standard deviation of 17.28 million units sold. \n",
    "\n",
    "Along the publishers, we have a minimum amount of 0.83 million units sold which differs in a 99.57% with the maximum amount of million units sold, which is, again, a very high difference. Half of the publishers has up to 4 million units sold and 75% of them between 4-11.04 million units sold which still differs in a 74.22% with the maximum amount of million units sold. "
   ]
  }
 ],
 "metadata": {
  "kernelspec": {
   "display_name": "final_project",
   "language": "python",
   "name": "python3"
  },
  "language_info": {
   "codemirror_mode": {
    "name": "ipython",
    "version": 3
   },
   "file_extension": ".py",
   "mimetype": "text/x-python",
   "name": "python",
   "nbconvert_exporter": "python",
   "pygments_lexer": "ipython3",
   "version": "3.11.5"
  }
 },
 "nbformat": 4,
 "nbformat_minor": 2
}

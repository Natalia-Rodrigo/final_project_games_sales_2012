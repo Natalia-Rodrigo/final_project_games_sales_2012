{
 "cells": [
  {
   "cell_type": "code",
   "execution_count": 2,
   "metadata": {},
   "outputs": [
    {
     "ename": "ModuleNotFoundError",
     "evalue": "No module named 'matplotlib_pyplot'",
     "output_type": "error",
     "traceback": [
      "\u001b[1;31m---------------------------------------------------------------------------\u001b[0m",
      "\u001b[1;31mModuleNotFoundError\u001b[0m                       Traceback (most recent call last)",
      "Cell \u001b[1;32mIn[2], line 10\u001b[0m\n\u001b[0;32m      8\u001b[0m \u001b[38;5;28;01mimport\u001b[39;00m \u001b[38;5;21;01mre\u001b[39;00m\n\u001b[0;32m      9\u001b[0m \u001b[38;5;28;01mimport\u001b[39;00m \u001b[38;5;21;01mseaborn\u001b[39;00m \u001b[38;5;28;01mas\u001b[39;00m \u001b[38;5;21;01msns\u001b[39;00m\n\u001b[1;32m---> 10\u001b[0m \u001b[38;5;28;01mimport\u001b[39;00m \u001b[38;5;21;01mmatplotlib_pyplot\u001b[39;00m \u001b[38;5;28;01mas\u001b[39;00m \u001b[38;5;21;01mplt\u001b[39;00m\n\u001b[0;32m     12\u001b[0m importlib\u001b[38;5;241m.\u001b[39mreload(fc)\n",
      "\u001b[1;31mModuleNotFoundError\u001b[0m: No module named 'matplotlib_pyplot'"
     ]
    }
   ],
   "source": [
    "#importing necessary libraries\n",
    "\n",
    "import pandas as pd\n",
    "import numpy as np\n",
    "import importlib\n",
    "import datetime\n",
    "import functions as fc\n",
    "import re\n",
    "import seaborn as sns\n",
    "import matplotlib_pyplot as plt\n",
    "\n",
    "importlib.reload(fc)"
   ]
  },
  {
   "cell_type": "code",
   "execution_count": null,
   "metadata": {},
   "outputs": [],
   "source": [
    "#importing csv \n",
    "video_games_df = pd.read_csv(\"C:/Users/Sabrina/Desktop/TestDA/Week_9/Final_project/data/raw/Video Games Sales.csv\")\n",
    "\n",
    "#checking df shape\n",
    "print(f\"This is the shape of video_games_df: {video_games_df.shape}\")\n",
    "\n",
    "#visualizing first and last 5 rows\n",
    "display(video_games_df.head())\n",
    "display(video_games_df.tail())"
   ]
  },
  {
   "cell_type": "code",
   "execution_count": null,
   "metadata": {},
   "outputs": [],
   "source": [
    "#checking nan values on the df\n",
    "video_games_df.isna().sum()"
   ]
  },
  {
   "cell_type": "markdown",
   "metadata": {},
   "source": [
    "Luckily, we only have missing values on Year and Publisher, which can be easily fill by isolating the games that correspond to these NaN values and substitude them with the correct year and publisher in order to avoid information lose. "
   ]
  },
  {
   "cell_type": "code",
   "execution_count": null,
   "metadata": {},
   "outputs": [],
   "source": [
    "#checking length is matching the previous info. \n",
    "print(len(video_games_df[video_games_df['Year'].isna()]))\n",
    "\n",
    "#visualizing games with NaN'\n",
    "nans_year = video_games_df[video_games_df['Year'].isna()]\n",
    "list_games_nans = nans_year['Game Title'].values.tolist()\n",
    "print(list_games_nans)\n",
    "\n",
    "display(video_games_df[video_games_df['Year'].isna()])"
   ]
  },
  {
   "cell_type": "code",
   "execution_count": null,
   "metadata": {},
   "outputs": [],
   "source": [
    "#updating year values through function \n",
    "\n",
    "fc.update_year(video_games_df, [1676], 1975.0)\n",
    "fc.update_year(video_games_df, [1554], 1997.0)\n",
    "fc.update_year(video_games_df, [1016], 1998.0)\n",
    "fc.update_year(video_games_df, [253, 1526], 1999.0)\n",
    "fc.update_year(video_games_df, [1326], 2000.0)\n",
    "fc.update_year(video_games_df, [524], 2001.0)\n",
    "fc.update_year(video_games_df, [746, 1275, 1318, 1631, 1752], 2002.0)\n",
    "fc.update_year(video_games_df, [143, 301, 1716], 2003.0)\n",
    "fc.update_year(video_games_df, [373, 1784], 2005.0)\n",
    "fc.update_year(video_games_df, [582, 1899], 2006.0)\n",
    "fc.update_year(video_games_df, [1386, 523, 573, 646, 936, 434, 1424], 2008.0)\n",
    "fc.update_year(video_games_df, [1030, 1819], 2010.0)\n",
    "fc.update_year(video_games_df, [1759], 2011.0)"
   ]
  },
  {
   "cell_type": "code",
   "execution_count": null,
   "metadata": {},
   "outputs": [],
   "source": [
    "#checking nan values on the df\n",
    "video_games_df.isna().sum()"
   ]
  },
  {
   "cell_type": "code",
   "execution_count": null,
   "metadata": {},
   "outputs": [],
   "source": [
    "video_games_df[video_games_df['Publisher'].isna()]"
   ]
  },
  {
   "cell_type": "code",
   "execution_count": null,
   "metadata": {},
   "outputs": [],
   "source": [
    "video_games_df.iloc[373, video_games_df.columns.get_loc('Publisher')] = 'THQ'\n",
    "video_games_df.iloc[1016, video_games_df.columns.get_loc('Publisher')] = 'Electronic Arts'"
   ]
  },
  {
   "cell_type": "code",
   "execution_count": null,
   "metadata": {},
   "outputs": [],
   "source": [
    "#checking nan values on the df\n",
    "video_games_df.isna().sum()"
   ]
  },
  {
   "cell_type": "code",
   "execution_count": null,
   "metadata": {},
   "outputs": [],
   "source": [
    "#cleaning columns names before proceeding\n",
    "fc.rename_columns(video_games_df)\n",
    "display(video_games_df)"
   ]
  },
  {
   "cell_type": "code",
   "execution_count": null,
   "metadata": {},
   "outputs": [],
   "source": [
    "#checking data type inconsistencies \n",
    "video_games_df.info()"
   ]
  },
  {
   "cell_type": "code",
   "execution_count": null,
   "metadata": {},
   "outputs": [],
   "source": [
    "#casting data type change for year. \n",
    "\n",
    "video_games_df['year'] = video_games_df['year'].astype(int)\n",
    "display(video_games_df)"
   ]
  },
  {
   "cell_type": "code",
   "execution_count": null,
   "metadata": {},
   "outputs": [],
   "source": [
    "#dropping columns index and rank\n",
    "video_games_df = video_games_df.drop(columns=['index', 'rank'])\n",
    "display(video_games_df)"
   ]
  },
  {
   "cell_type": "code",
   "execution_count": null,
   "metadata": {},
   "outputs": [],
   "source": [
    "#there are some Unknown values in the publisher columns, hence I'll replace them with the actual Publisher keeping in mind the platform and year\n",
    "display(video_games_df[video_games_df['publisher'] == 'Unknown'])\n"
   ]
  },
  {
   "cell_type": "code",
   "execution_count": null,
   "metadata": {},
   "outputs": [],
   "source": [
    "video_games_df['publisher'].unique()"
   ]
  },
  {
   "cell_type": "code",
   "execution_count": null,
   "metadata": {},
   "outputs": [],
   "source": [
    "#searched publisher and make sure change is homogeneous with the existing ones \n",
    "\n",
    "video_games_df.iloc[253, video_games_df.columns.get_loc('publisher')] = 'Hasbro Interactive'\n",
    "video_games_df.iloc[286, video_games_df.columns.get_loc('publisher')] = 'THQ'\n",
    "video_games_df.iloc[301, video_games_df.columns.get_loc('publisher')] = 'Electronic Arts'\n",
    "video_games_df.iloc[524, video_games_df.columns.get_loc('publisher')] = 'Konami Digital Entertainment'\n",
    "video_games_df.iloc[582, video_games_df.columns.get_loc('publisher')] = 'Activision'\n",
    "video_games_df.iloc[746, video_games_df.columns.get_loc('publisher')] = 'Sony Computer Entertainment'\n",
    "video_games_df.iloc[1275, video_games_df.columns.get_loc('publisher')] = 'Electronic Arts'\n",
    "video_games_df.iloc[1424, video_games_df.columns.get_loc('publisher')] = 'Electronic Arts'\n",
    "video_games_df.iloc[1631, video_games_df.columns.get_loc('publisher')] = 'Konami Digital Entertainment'\n",
    "video_games_df.iloc[1676, video_games_df.columns.get_loc('publisher')] = 'Atari'\n",
    "video_games_df.iloc[1716, video_games_df.columns.get_loc('publisher')] = 'Konami Digital Entertainment'\n",
    "video_games_df.iloc[1752, video_games_df.columns.get_loc('publisher')] = 'Namco Bandai Games'\n",
    "video_games_df.iloc[1784, video_games_df.columns.get_loc('publisher')] = 'Midway Games'\n",
    "video_games_df.iloc[1899, video_games_df.columns.get_loc('publisher')] = 'Electronic Arts'"
   ]
  },
  {
   "cell_type": "code",
   "execution_count": null,
   "metadata": {},
   "outputs": [],
   "source": [
    "#I wont be doing any changes on these column for now\n",
    "video_games_df['genre'].unique()\n",
    "video_games_df['year'].unique()\n",
    "video_games_df['platform'].unique()"
   ]
  },
  {
   "cell_type": "code",
   "execution_count": null,
   "metadata": {},
   "outputs": [],
   "source": [
    "video_games_df.select_dtypes(include=np.number).describe().round(3)"
   ]
  },
  {
   "cell_type": "markdown",
   "metadata": {},
   "source": [
    "In here we can see that the average of the games are from 2003 having an average review of 79%, with higher sells in North America, presenting an amount of 1.26 millions units sold, a 50,58% of the total units sold. \n",
    "The standard deviation for millions/units sold is higher in north america, preceeded by europe, japan and rest of the world.\n",
    "We have a minimum amount of 0 millions/units sold per region, and 0.83 globally. \n",
    "While in the maximum amount is set to 81.12 million units globally, having a difference of 98.98% with the minimum global amount of units sold which can lead us to think that games have gain considerably weight throughout the years. "
   ]
  },
  {
   "cell_type": "code",
   "execution_count": null,
   "metadata": {},
   "outputs": [],
   "source": [
    "video_games_df.isna().sum()"
   ]
  },
  {
   "cell_type": "code",
   "execution_count": null,
   "metadata": {},
   "outputs": [],
   "source": [
    "video_games_df.drop(columns='game_title').select_dtypes(exclude=np.number).mode()\n"
   ]
  },
  {
   "cell_type": "code",
   "execution_count": null,
   "metadata": {},
   "outputs": [],
   "source": [
    "categorical_variables = video_games_df.drop(columns='game_title').select_dtypes(exclude=np.number)\n",
    "fc.countplot_categorical_variables(categorical_variables, 15, 10)"
   ]
  },
  {
   "cell_type": "code",
   "execution_count": null,
   "metadata": {},
   "outputs": [],
   "source": [
    "sales_df = video_games_df[['platform', 'year', 'genre', 'publisher', 'global']]\n",
    "platform_sales = sales_df.groupby(['year', 'platform']).agg({'global' : sum})\n",
    "platform_sales = pd.DataFrame(platform_sales).reset_index()\n",
    "display(platform_sales)"
   ]
  },
  {
   "cell_type": "code",
   "execution_count": null,
   "metadata": {},
   "outputs": [],
   "source": [
    "platforms = platform_sales['platform'].unique().tolist()\n",
    "platforms"
   ]
  },
  {
   "cell_type": "code",
   "execution_count": null,
   "metadata": {},
   "outputs": [],
   "source": [
    "#sony_platform_df = platform_sales[['platform']].isin(['PS2', 'PS', 'PS3', 'PSP', 'PSV'])\n",
    "#nintendo_platform_df = platform_sales[['platform']].isin(['NES', 'GB', 'SNES', 'N64', 'GBA', 'GC', 'DS', '3DS', 'Wii','WiiU'])\n",
    "#sega_platforms_df = platform_sales[['platform']].isin(['GEN', 'SCD', 'SAT', 'DC'])\n",
    "#microsoft_platforms_df = platform_sales[['platform']].isin(['XB', 'X360'])"
   ]
  },
  {
   "cell_type": "code",
   "execution_count": null,
   "metadata": {},
   "outputs": [],
   "source": [
    "sony_platform_df = platform_sales.copy()\n",
    "sony_platform_df['platform'] = platform_sales[['platform']].isin(['PS2', 'PS', 'PS3', 'PSP', 'PSV'])\n",
    "sony_platform_df"
   ]
  },
  {
   "cell_type": "code",
   "execution_count": null,
   "metadata": {},
   "outputs": [],
   "source": [
    "#sns.lineplot(data = platform_sales[platform_sales['platform']].isin(['PS2', 'PS', 'PS3', 'PSP', 'PSV']), x = 'year', y = 'global', hue = 'platform')"
   ]
  },
  {
   "cell_type": "code",
   "execution_count": null,
   "metadata": {},
   "outputs": [],
   "source": []
  }
 ],
 "metadata": {
  "kernelspec": {
   "display_name": "final_project",
   "language": "python",
   "name": "python3"
  },
  "language_info": {
   "codemirror_mode": {
    "name": "ipython",
    "version": 3
   },
   "file_extension": ".py",
   "mimetype": "text/x-python",
   "name": "python",
   "nbconvert_exporter": "python",
   "pygments_lexer": "ipython3",
   "version": "3.11.5"
  }
 },
 "nbformat": 4,
 "nbformat_minor": 2
}

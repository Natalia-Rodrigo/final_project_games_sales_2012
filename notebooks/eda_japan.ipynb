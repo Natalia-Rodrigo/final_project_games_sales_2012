{
 "cells": [
  {
   "cell_type": "code",
   "execution_count": null,
   "metadata": {},
   "outputs": [],
   "source": [
    "import pandas as pd\n",
    "import numpy as np\n",
    "import seaborn as sns\n",
    "import matplotlib.pyplot as plt\n",
    "import functions as fc\n",
    "import importlib\n",
    "\n",
    "importlib.reload(fc)"
   ]
  },
  {
   "cell_type": "code",
   "execution_count": null,
   "metadata": {},
   "outputs": [],
   "source": [
    "cleaned_video_games = pd.read_csv('..\\data\\cleaned\\cleaned_video_games_df.csv')\n",
    "cleaned_video_games"
   ]
  },
  {
   "cell_type": "code",
   "execution_count": null,
   "metadata": {},
   "outputs": [],
   "source": [
    "japan_df = cleaned_video_games.copy().drop(columns=['north_america', 'europe', 'rest_of_world','global', 'Unnamed: 0'], axis=1)\n",
    "display(japan_df.head(3))"
   ]
  },
  {
   "cell_type": "code",
   "execution_count": null,
   "metadata": {},
   "outputs": [],
   "source": [
    "japan_df_platform_sales = fc.df_grouping(japan_df, 'platform', 'japan')\n",
    "japan_df_genre_sales = fc.df_grouping(japan_df, 'genre', 'japan')\n",
    "japan_df_publisher_sales = fc.df_grouping(japan_df, 'publisher', 'japan')\n",
    "\n",
    "display(japan_df_platform_sales.head(3))\n",
    "display(japan_df_genre_sales.head(3))\n",
    "display(japan_df_publisher_sales.head(3))"
   ]
  },
  {
   "cell_type": "markdown",
   "metadata": {},
   "source": [
    "## Japan Platform Analysis"
   ]
  },
  {
   "cell_type": "code",
   "execution_count": null,
   "metadata": {},
   "outputs": [],
   "source": [
    "#for a better readability in the lineplot, I'll be separating platforms by companies. \n",
    "\n",
    "sony_platform_df = japan_df_platform_sales.copy()\n",
    "sony_platform_df = sony_platform_df[sony_platform_df['platform'].isin(['PS2', 'PS', 'PS3', 'PSP', 'PSV'])]\n",
    "\n",
    "\n",
    "nintendo_platform_df = japan_df_platform_sales.copy()\n",
    "nintendo_platform_df = nintendo_platform_df[nintendo_platform_df['platform'].isin(['NES', 'GB', 'SNES', 'N64', 'GBA', 'GC', 'DS', '3DS', 'Wii','WiiU'])]\n",
    "\n",
    "\n",
    "sega_platforms_df = japan_df_platform_sales.copy()\n",
    "sega_platforms_df = sega_platforms_df[sega_platforms_df['platform'].isin(['GEN', 'SCD', 'SAT', 'DC'])]\n",
    "\n",
    "\n",
    "microsoft_platforms_df = japan_df_platform_sales.copy()\n",
    "microsoft_platforms_df = microsoft_platforms_df[microsoft_platforms_df['platform'].isin(['XB', 'X360'])]"
   ]
  },
  {
   "cell_type": "code",
   "execution_count": null,
   "metadata": {},
   "outputs": [],
   "source": [
    "japan_platform_list = [sony_platform_df, nintendo_platform_df, sega_platforms_df, microsoft_platforms_df]\n",
    "japan_platform_names = ['Sony platforms', 'Nintendo platforms', 'Sega platforms', 'Microsoft platforms']\n",
    "\n",
    "fc.lineplot(japan_platform_list, japan_platform_names, objective = 'platform', y = 'japan')\n",
    "fc.barplot(japan_platform_list, japan_platform_names, objective = 'platform', y = 'japan')"
   ]
  },
  {
   "cell_type": "code",
   "execution_count": null,
   "metadata": {},
   "outputs": [],
   "source": [
    "japan_df_platform_sales['japan'].describe().round(3)"
   ]
  },
  {
   "cell_type": "markdown",
   "metadata": {},
   "source": [
    "## Japan Genre Analysis"
   ]
  },
  {
   "cell_type": "code",
   "execution_count": null,
   "metadata": {},
   "outputs": [],
   "source": [
    "japan_df_genre_sales['genre'].unique()"
   ]
  },
  {
   "cell_type": "code",
   "execution_count": null,
   "metadata": {},
   "outputs": [],
   "source": [
    "for genre in japan_df_genre_sales['genre'].unique():\n",
    "    plt.figure(figsize=(6, 6))\n",
    "    sns.lineplot(data = japan_df_genre_sales[japan_df_genre_sales['genre'] == genre], x = 'year', y = 'japan', label=genre)\n",
    "    plt.title(f'Genre {genre} sales throughout time')\n",
    "    plt.show()\n",
    "\n",
    "fc.barplot([japan_df_genre_sales], ['Genre'], objective = 'genre', y = 'japan')"
   ]
  },
  {
   "cell_type": "code",
   "execution_count": null,
   "metadata": {},
   "outputs": [],
   "source": [
    "japan_df_genre_sales['japan'].describe().round(3)"
   ]
  },
  {
   "cell_type": "markdown",
   "metadata": {},
   "source": [
    "## Japan Publisher Analysis"
   ]
  },
  {
   "cell_type": "code",
   "execution_count": null,
   "metadata": {},
   "outputs": [],
   "source": [
    "major_publisher_df = japan_df_publisher_sales.copy()\n",
    "major_publisher_df = major_publisher_df[major_publisher_df['publisher'].isin(['Nintendo', 'Electronic Arts', 'Activision', 'Microsoft Game Studios', 'Sony Computer Entertainment', 'Ubisoft', 'Take-Two Interactive', 'Konami Digital Entertainment', 'Bethesda Softworks', 'THQ', 'Sega', 'Capcom', 'Square Enix', 'Namco Bandai Games', 'Warner Bros. Interactive Entertainment'])]\n",
    "\n",
    "\n",
    "indie_publisher_df = japan_df_publisher_sales.copy()\n",
    "indie_publisher_df = indie_publisher_df[indie_publisher_df['publisher'].isin(['505 Games', 'Deep Silver', 'Level 5', 'D3Publisher', 'Global Star', 'Hudson Soft', 'Majesco Entertainment', 'Crave Entertainment', 'Valve Software', 'City Interactive', 'Sammy Corporation', 'Koch Media', 'Play It', 'GSP', 'Russel', 'Success', 'Tomy Corporation'])]"
   ]
  },
  {
   "cell_type": "code",
   "execution_count": null,
   "metadata": {},
   "outputs": [],
   "source": [
    "publisher_df_list = [major_publisher_df, indie_publisher_df]\n",
    "publisher_names = ['Major publisher', 'Indie publisher']\n",
    "\n",
    "fc.lineplot(publisher_df_list, publisher_names, objective = 'publisher', y = 'japan')\n",
    "fc.barplot(publisher_df_list, publisher_names, objective = 'publisher', y = 'japan')"
   ]
  },
  {
   "cell_type": "code",
   "execution_count": null,
   "metadata": {},
   "outputs": [],
   "source": [
    "japan_df_publisher_sales['japan'].describe().round(3)"
   ]
  }
 ],
 "metadata": {
  "kernelspec": {
   "display_name": "final_project",
   "language": "python",
   "name": "python3"
  },
  "language_info": {
   "codemirror_mode": {
    "name": "ipython",
    "version": 3
   },
   "file_extension": ".py",
   "mimetype": "text/x-python",
   "name": "python",
   "nbconvert_exporter": "python",
   "pygments_lexer": "ipython3",
   "version": "3.11.5"
  }
 },
 "nbformat": 4,
 "nbformat_minor": 2
}

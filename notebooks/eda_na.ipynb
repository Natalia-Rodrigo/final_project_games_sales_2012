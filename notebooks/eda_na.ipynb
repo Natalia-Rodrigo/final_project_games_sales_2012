{
 "cells": [
  {
   "cell_type": "code",
   "execution_count": null,
   "metadata": {},
   "outputs": [],
   "source": [
    "import pandas as pd\n",
    "import numpy as np\n",
    "import seaborn as sns\n",
    "import matplotlib.pyplot as plt\n",
    "import functions as fc\n",
    "import importlib\n",
    "\n",
    "importlib.reload(fc)"
   ]
  },
  {
   "cell_type": "code",
   "execution_count": null,
   "metadata": {},
   "outputs": [],
   "source": [
    "cleaned_video_games = pd.read_csv('..\\data\\cleaned\\cleaned_video_games_df.csv')\n",
    "cleaned_video_games"
   ]
  },
  {
   "cell_type": "code",
   "execution_count": null,
   "metadata": {},
   "outputs": [],
   "source": [
    "na_df = cleaned_video_games.copy().drop(columns=['japan', 'europe', 'rest_of_world', 'global', 'Unnamed: 0'], axis=1)\n",
    "#display(na_df)"
   ]
  },
  {
   "cell_type": "code",
   "execution_count": null,
   "metadata": {},
   "outputs": [],
   "source": [
    "na_df_platform_sales = fc.df_grouping(na_df, 'platform', 'north_america')\n",
    "na_df_genre_sales = fc.df_grouping(na_df, 'genre', 'north_america')\n",
    "na_df_publisher_sales = fc.df_grouping(na_df, 'publisher', 'north_america')\n",
    "\n",
    "display(na_df_platform_sales.head(3))\n",
    "display(na_df_genre_sales.head(3))\n",
    "display(na_df_publisher_sales.head(3))"
   ]
  },
  {
   "cell_type": "markdown",
   "metadata": {},
   "source": [
    "## North America Platform Analysis"
   ]
  },
  {
   "cell_type": "code",
   "execution_count": null,
   "metadata": {},
   "outputs": [],
   "source": [
    "#for a better readability in the lineplot, I'll be separating platforms by companies. \n",
    "\n",
    "sony_platform_df = na_df_platform_sales.copy()\n",
    "sony_platform_df = sony_platform_df[sony_platform_df['platform'].isin(['PS2', 'PS', 'PS3', 'PSP', 'PSV'])]\n",
    "\n",
    "\n",
    "nintendo_platform_df = na_df_platform_sales.copy()\n",
    "nintendo_platform_df = nintendo_platform_df[nintendo_platform_df['platform'].isin(['NES', 'GB', 'SNES', 'N64', 'GBA', 'GC', 'DS', '3DS', 'Wii','WiiU'])]\n",
    "\n",
    "\n",
    "sega_platforms_df = na_df_platform_sales.copy()\n",
    "sega_platforms_df = sega_platforms_df[sega_platforms_df['platform'].isin(['GEN', 'SCD', 'SAT', 'DC'])]\n",
    "\n",
    "\n",
    "microsoft_platforms_df = na_df_platform_sales.copy()\n",
    "microsoft_platforms_df = microsoft_platforms_df[microsoft_platforms_df['platform'].isin(['XB', 'X360'])]"
   ]
  },
  {
   "cell_type": "code",
   "execution_count": null,
   "metadata": {},
   "outputs": [],
   "source": [
    "na_platform_list = [sony_platform_df, nintendo_platform_df, sega_platforms_df, microsoft_platforms_df]\n",
    "na_platform_names = ['Sony platforms', 'Nintendo platforms', 'Sega platforms', 'Microsoft platforms']\n",
    "fc.lineplot(na_platform_list, na_platform_names, objective = 'platform', y = 'north_america')\n",
    "fc.barplot(na_platform_list, na_platform_names, objective = 'platform', y = 'north_america')"
   ]
  },
  {
   "cell_type": "code",
   "execution_count": null,
   "metadata": {},
   "outputs": [],
   "source": [
    "na_df_platform_sales['north_america'].describe().round(3)"
   ]
  },
  {
   "cell_type": "markdown",
   "metadata": {},
   "source": [
    "## North America Genre Analysis"
   ]
  },
  {
   "cell_type": "code",
   "execution_count": null,
   "metadata": {},
   "outputs": [],
   "source": [
    "na_df_genre_sales['genre'].unique()"
   ]
  },
  {
   "cell_type": "code",
   "execution_count": null,
   "metadata": {},
   "outputs": [],
   "source": [
    "for genre in na_df_genre_sales['genre'].unique():\n",
    "    plt.figure(figsize=(6, 6))\n",
    "    sns.lineplot(data = na_df_genre_sales[na_df_genre_sales['genre'] == genre], x = 'year', y = 'north_america', label=genre)\n",
    "    plt.title(f'Genre {genre} sales throughout time')\n",
    "    plt.show()\n",
    "\n",
    "fc.barplot([na_df_genre_sales], ['Genre'], objective = 'genre', y = 'north_america')"
   ]
  },
  {
   "cell_type": "code",
   "execution_count": null,
   "metadata": {},
   "outputs": [],
   "source": [
    "na_df_genre_sales['north_america'].describe().round(3)"
   ]
  },
  {
   "cell_type": "markdown",
   "metadata": {},
   "source": [
    "## North America Publisher Analysis"
   ]
  },
  {
   "cell_type": "code",
   "execution_count": null,
   "metadata": {},
   "outputs": [],
   "source": [
    "major_publisher_df = na_df_publisher_sales.copy()\n",
    "major_publisher_df = major_publisher_df[major_publisher_df['publisher'].isin(['Nintendo', 'Electronic Arts', 'Activision', 'Microsoft Game Studios', 'Sony Computer Entertainment', 'Ubisoft', 'Take-Two Interactive', 'Konami Digital Entertainment', 'Bethesda Softworks', 'THQ', 'Sega', 'Capcom', 'Square Enix', 'Namco Bandai Games', 'Warner Bros. Interactive Entertainment'])]\n",
    "\n",
    "\n",
    "indie_publisher_df = na_df_publisher_sales.copy()\n",
    "indie_publisher_df = indie_publisher_df[indie_publisher_df['publisher'].isin(['505 Games', 'Deep Silver', 'Level 5', 'D3Publisher', 'Global Star', 'Hudson Soft', 'Majesco Entertainment', 'Crave Entertainment', 'Valve Software', 'City Interactive', 'Sammy Corporation', 'Koch Media', 'Play It', 'GSP', 'Russel', 'Success', 'Tomy Corporation'])]"
   ]
  },
  {
   "cell_type": "code",
   "execution_count": null,
   "metadata": {},
   "outputs": [],
   "source": [
    "publisher_df_list = [major_publisher_df, indie_publisher_df]\n",
    "publisher_names = ['Major publisher', 'Indie publisher']\n",
    "\n",
    "fc.lineplot(publisher_df_list, publisher_names, objective = 'publisher', y = 'north_america')\n",
    "fc.barplot(publisher_df_list, publisher_names, objective = 'publisher', y = 'north_america')"
   ]
  },
  {
   "cell_type": "code",
   "execution_count": null,
   "metadata": {},
   "outputs": [],
   "source": [
    "na_df_publisher_sales['north_america'].describe().round(3)"
   ]
  }
 ],
 "metadata": {
  "kernelspec": {
   "display_name": "final_project",
   "language": "python",
   "name": "python3"
  },
  "language_info": {
   "codemirror_mode": {
    "name": "ipython",
    "version": 3
   },
   "file_extension": ".py",
   "mimetype": "text/x-python",
   "name": "python",
   "nbconvert_exporter": "python",
   "pygments_lexer": "ipython3",
   "version": "3.11.5"
  }
 },
 "nbformat": 4,
 "nbformat_minor": 2
}
